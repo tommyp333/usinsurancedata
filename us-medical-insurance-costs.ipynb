{
 "cells": [
  {
   "cell_type": "markdown",
   "metadata": {},
   "source": [
    "# U.S. Medical Insurance Costs"
   ]
  },
  {
   "cell_type": "code",
   "execution_count": 1,
   "metadata": {},
   "outputs": [],
   "source": [
    "import csv\n",
    "\n",
    "# Open the CSV file and read its contents\n",
    "with open('insurance.csv', 'r') as insurance:\n",
    "    reader = csv.DictReader(insurance)\n",
    "    \n",
    "    bmi = []\n",
    "    smoker = []\n",
    "    region = []\n",
    "    charges = []\n",
    "    \n",
    "    for row in reader:\n",
    "        bmi.append(row['bmi'])\n",
    "        smoker.append(row['smoker'])\n",
    "        region.append(row['region'])\n",
    "        charges.append(row['charges'])"
   ]
  },
  {
   "cell_type": "code",
   "execution_count": 4,
   "metadata": {},
   "outputs": [],
   "source": [
    "#Scoping: Regional health outcomes\n",
    "#first goal-> probability of being a smoker based on location\n",
    "#second goal-> bmi based on location\n",
    "#third goal-> charges based on location\n",
    "\n",
    "#data: smoker, region, bmi, charges\n",
    "\n",
    "#analysis: use dictionaries and loops to calculate\n",
    "#          averages and probabilities"
   ]
  },
  {
   "cell_type": "code",
   "execution_count": 5,
   "metadata": {},
   "outputs": [
    {
     "name": "stdout",
     "output_type": "stream",
     "text": [
      "['southwest', 'northeast', 'northwest', 'southeast']\n",
      "['yes', 'no']\n"
     ]
    }
   ],
   "source": [
    "#first goal-> probability of being a smoker based on location\n",
    "\n",
    "unique_regions = list(set(region))\n",
    "print(unique_regions)\n",
    "\n",
    "unique_smoker = list(set(smoker))\n",
    "print(unique_smoker)"
   ]
  },
  {
   "cell_type": "code",
   "execution_count": 6,
   "metadata": {},
   "outputs": [
    {
     "name": "stdout",
     "output_type": "stream",
     "text": [
      "Percent who smoke in the northwest is 17.846153846153847%\n",
      "Percent who smoke in the southeast = 25.0%\n",
      "Percent who some in the southwest = 17.846153846153847%\n",
      "Percent who smoke in the northeast = 20.679012345679013%\n"
     ]
    }
   ],
   "source": [
    "#total number of smokers per region\n",
    "nwsmoke = 0\n",
    "sesmoke = 0\n",
    "swsmoke = 0\n",
    "nesmoke = 0\n",
    "\n",
    "for i, s in zip(region, smoker):\n",
    "    if s == 'yes':\n",
    "        if i == 'northwest':\n",
    "            nwsmoke += 1\n",
    "        if i == 'southeast':\n",
    "            sesmoke += 1\n",
    "        if i == 'southwest':\n",
    "            swsmoke += 1\n",
    "        if i == 'northeast':\n",
    "            nesmoke += 1\n",
    "\n",
    "#total number of subjects per region\n",
    "nw = 0\n",
    "se = 0\n",
    "sw = 0\n",
    "ne = 0\n",
    "\n",
    "for i in region:\n",
    "    if i == 'northwest':\n",
    "        nw += 1\n",
    "    elif i == 'southeast':\n",
    "        se += 1\n",
    "    elif i == 'southwest':\n",
    "        sw += 1\n",
    "    elif i == 'northeast':\n",
    "        ne += 1\n",
    "        \n",
    "#divide smokers per region by total subjects per region\n",
    "\n",
    "nw_smoke_percent = nwsmoke/nw * 100\n",
    "se_smoke_percent = sesmoke/se * 100\n",
    "sw_smoke_percent = swsmoke/sw * 100\n",
    "ne_smoke_percent = nesmoke/ne * 100\n",
    "\n",
    "#print results\n",
    "print(f'Percent who smoke in the northwest is {nw_smoke_percent}%')\n",
    "print(f'Percent who smoke in the southeast = {se_smoke_percent}%')\n",
    "print(f'Percent who some in the southwest = {sw_smoke_percent}%')\n",
    "print(f'Percent who smoke in the northeast = {ne_smoke_percent}%')\n",
    "        "
   ]
  },
  {
   "cell_type": "code",
   "execution_count": 7,
   "metadata": {},
   "outputs": [
    {
     "name": "stdout",
     "output_type": "stream",
     "text": [
      "Average BMI in the northwest is 29.199784615384626\n",
      "Average BMI in the southeast is 33.35598901098903\n",
      "Average BMI in the southwest is 30.59661538461538\n",
      "Average BMI in the northeast is 29.17350308641976\n"
     ]
    }
   ],
   "source": [
    "#second goal-> bmi based on location\n",
    "\n",
    "bmi_nw = 0\n",
    "bmi_se = 0\n",
    "bmi_sw = 0\n",
    "bmi_ne = 0\n",
    "\n",
    "for i, s in zip(region, bmi):\n",
    "    if i == 'northwest':\n",
    "        bmi_nw += float(s)\n",
    "    elif i == 'southeast':\n",
    "        bmi_se += float(s)\n",
    "    elif i == 'southwest':\n",
    "        bmi_sw += float(s)\n",
    "    elif i == 'northeast':\n",
    "        bmi_ne += float(s)\n",
    "\n",
    "bmi_avg_nw = bmi_nw / nw\n",
    "bmi_avg_se = bmi_se / se\n",
    "bmi_avg_sw = bmi_sw / sw\n",
    "bmi_avg_ne = bmi_ne / ne\n",
    "\n",
    "print(f'Average BMI in the northwest is {bmi_avg_nw}')\n",
    "print(f'Average BMI in the southeast is {bmi_avg_se}')\n",
    "print(f'Average BMI in the southwest is {bmi_avg_sw}')\n",
    "print(f'Average BMI in the northeast is {bmi_avg_ne}')\n",
    "    "
   ]
  },
  {
   "cell_type": "code",
   "execution_count": 8,
   "metadata": {},
   "outputs": [
    {
     "name": "stdout",
     "output_type": "stream",
     "text": [
      "Average charge in the northwest is $12417.575373969228\n",
      "Average charge in the southeast is $14735.411437609895\n",
      "Average charge in the southwest is $12346.93737729231\n",
      "Average charge in the northeast is $13406.3845163858\n"
     ]
    }
   ],
   "source": [
    "#third goal-> charges based on location\n",
    "\n",
    "charges_nw = 0\n",
    "charges_se = 0\n",
    "charges_sw = 0\n",
    "charges_ne = 0\n",
    "\n",
    "for i, s in zip(region, charges):\n",
    "    if i == 'northwest':\n",
    "        charges_nw += float(s)\n",
    "    elif i == 'southeast':\n",
    "        charges_se += float(s)\n",
    "    elif i == 'southwest':\n",
    "        charges_sw += float(s)\n",
    "    elif i == 'northeast':\n",
    "        charges_ne += float(s)\n",
    "        \n",
    "charges_avg_nw = charges_nw / nw\n",
    "charges_avg_se = charges_se / se\n",
    "charges_avg_sw = charges_sw / sw\n",
    "charges_avg_ne = charges_ne / ne\n",
    "\n",
    "print(f'Average charge in the northwest is ${charges_avg_nw}')\n",
    "print(f'Average charge in the southeast is ${charges_avg_se}')\n",
    "print(f'Average charge in the southwest is ${charges_avg_sw}')\n",
    "print(f'Average charge in the northeast is ${charges_avg_ne}')"
   ]
  },
  {
   "cell_type": "code",
   "execution_count": 9,
   "metadata": {},
   "outputs": [],
   "source": [
    "avg_region_data = {\n",
    "    'northwest': [nw_smoke_percent, bmi_avg_nw, charges_avg_nw],\n",
    "    'southeast': [se_smoke_percent, bmi_avg_se, charges_avg_se],\n",
    "    'southwest': [sw_smoke_percent, bmi_avg_sw, charges_avg_sw],\n",
    "    'northeast': [ne_smoke_percent, bmi_avg_ne, charges_avg_ne]\n",
    "}"
   ]
  },
  {
   "cell_type": "code",
   "execution_count": 10,
   "metadata": {},
   "outputs": [
    {
     "name": "stdout",
     "output_type": "stream",
     "text": [
      "{'northwest': [17.846153846153847, 29.199784615384626, 12417.575373969228], 'southeast': [25.0, 33.35598901098903, 14735.411437609895], 'southwest': [17.846153846153847, 30.59661538461538, 12346.93737729231], 'northeast': [20.679012345679013, 29.17350308641976, 13406.3845163858]}\n"
     ]
    }
   ],
   "source": [
    "print(avg_region_data)"
   ]
  },
  {
   "cell_type": "code",
   "execution_count": null,
   "metadata": {},
   "outputs": [],
   "source": []
  }
 ],
 "metadata": {
  "kernelspec": {
   "display_name": "Python 3 (ipykernel)",
   "language": "python",
   "name": "python3"
  },
  "language_info": {
   "codemirror_mode": {
    "name": "ipython",
    "version": 3
   },
   "file_extension": ".py",
   "mimetype": "text/x-python",
   "name": "python",
   "nbconvert_exporter": "python",
   "pygments_lexer": "ipython3",
   "version": "3.9.13"
  }
 },
 "nbformat": 4,
 "nbformat_minor": 4
}
